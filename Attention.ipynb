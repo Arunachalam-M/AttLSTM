{
 "cells": [
  {
   "cell_type": "code",
   "execution_count": 1,
   "metadata": {},
   "outputs": [],
   "source": [
    "import torch\n",
    "import torch.nn as nn\n",
    "import torch.nn.functional as F\n",
    "import torch.optim as optim\n",
    "import random\n",
    "import pandas as pd\n",
    "import numpy as np\n",
    "import time\n",
    "\n",
    "device = torch.device(\"cuda:0\" if torch.cuda.is_available() else \"cpu\")"
   ]
  },
  {
   "cell_type": "code",
   "execution_count": 2,
   "metadata": {},
   "outputs": [],
   "source": [
    "import matplotlib.pyplot as plt\n",
    "import seaborn as sns"
   ]
  },
  {
   "cell_type": "code",
   "execution_count": 3,
   "metadata": {},
   "outputs": [],
   "source": [
    "train = pd.read_csv('quora-question-pairs/train.csv')\n",
    "#test = pd.read_csv('quora-question-pairs/test.csv')"
   ]
  },
  {
   "cell_type": "code",
   "execution_count": 4,
   "metadata": {},
   "outputs": [],
   "source": [
    "train['question1'] = train['question1'].astype(str)\n",
    "train1 = [i.split(' ') for i in train['question1'].values.tolist()]\n",
    "\n",
    "train['question2'] = train['question2'].astype(str)\n",
    "train2 = [i.split(' ') for i in train['question2'].values.tolist()]\n",
    "\n",
    "labels = train['is_duplicate'].values.tolist()"
   ]
  },
  {
   "cell_type": "code",
   "execution_count": 5,
   "metadata": {},
   "outputs": [],
   "source": [
    "#test['question1'] = test['question1'].astype(str)\n",
    "#test1 = [i.split(' ') for i in test['question1'].values.tolist()]\n",
    "\n",
    "#test['question2'] = test['question2'].astype(str)\n",
    "#test2 = [i.split(' ') for i in test['question2'].values.tolist()]"
   ]
  },
  {
   "cell_type": "code",
   "execution_count": 6,
   "metadata": {},
   "outputs": [
    {
     "name": "stderr",
     "output_type": "stream",
     "text": [
      "\n"
     ]
    }
   ],
   "source": [
    "import fasttext\n",
    "\n",
    "ft_en = fasttext.load_model('cc.en.300.bin')\n",
    "\n",
    "def get_ft(word):\n",
    "    return ft_en.get_word_vector(word)"
   ]
  },
  {
   "cell_type": "code",
   "execution_count": 7,
   "metadata": {},
   "outputs": [],
   "source": [
    "EMBEDDING_DIM = 300\n",
    "HIDDEN_DIM = 15\n",
    "LEARNING_RATE = 0.05\n",
    "LSTM_LAYERS = 2\n",
    "DROPOUT = 0.1\n",
    "EPOCHS = 1\n",
    "KEY_DIM = 2*LSTM_LAYERS*HIDDEN_DIM\n",
    "OUT_DIM = 2*HIDDEN_DIM"
   ]
  },
  {
   "cell_type": "code",
   "execution_count": 8,
   "metadata": {},
   "outputs": [],
   "source": [
    "class AttentionLSTM(nn.Module):\n",
    "    def __init__(self, embedding_dim, hidden_dim):\n",
    "        super(AttentionLSTM, self).__init__()\n",
    "        \n",
    "        self.w1 = 0\n",
    "        self.w2 = 0\n",
    "        self.w_matrix1 = 0\n",
    "        self.w_matrix2 = 0\n",
    "        self.al1 = 0\n",
    "        self.al2 = 0\n",
    "        self.similarity = 0\n",
    "        self.predict = 0\n",
    "        \n",
    "        self.lstm = nn.LSTM(embedding_dim, hidden_dim, num_layers = LSTM_LAYERS, dropout = DROPOUT, bidirectional = True)\n",
    "        self.Bilinear = nn.Bilinear(EMBEDDING_DIM+OUT_DIM, EMBEDDING_DIM+OUT_DIM, 1)\n",
    "        \n",
    "        #self.inp = nn.Linear(6, 12)\n",
    "        #self.hidden1 = nn.Linear(12, 12)\n",
    "        #self.hidden2 = nn.Linear(8, 8)\n",
    "        #self.hidden3 = nn.Linear(8, 8)\n",
    "        #self.out = nn.Linear(12, 1)\n",
    "        \n",
    "        self.linear = nn.Linear(4, 1)\n",
    "        \n",
    "        self.norm1 = nn.LayerNorm(2*OUT_DIM)\n",
    "        self.norm2 = nn.LayerNorm(EMBEDDING_DIM+OUT_DIM)\n",
    "        \n",
    "        self.Key = nn.Linear(EMBEDDING_DIM+OUT_DIM, KEY_DIM)\n",
    "\n",
    "    def forward(self, sentence1, sentence2):\n",
    "        \n",
    "        out1, (hidden_state1, _) = self.lstm(sentence1.view(len(sentence1), 1, -1))\n",
    "        out2, (hidden_state2, _) = self.lstm(sentence2.view(len(sentence2), 1, -1))\n",
    "        \n",
    "        out1 = torch.cat((out1.view(len(sentence1), -1), sentence1), dim=1) \n",
    "        out2 = torch.cat((out2.view(len(sentence2), -1), sentence2), dim=1) \n",
    "        \n",
    "        query1 = hidden_state1.view(-1)\n",
    "        query2 = hidden_state2.view(-1)\n",
    "        \n",
    "        keys1 = self.norm1(self.Key(out1))\n",
    "        keys2 = self.norm1(self.Key(out2))\n",
    "        \n",
    "        keys1 = keys1.view(-1,KEY_DIM)\n",
    "        keys2 = keys2.view(-1,KEY_DIM)\n",
    "        \n",
    "        cos = nn.CosineSimilarity(dim = -1)\n",
    "        \n",
    "        weights1 = cos(keys1, query1)\n",
    "        weights2 = cos(keys2, query2)\n",
    "        \n",
    "        threshold1 = 1/(4+len(sentence1))\n",
    "        threshold2 = 1/(4+len(sentence2))\n",
    "\n",
    "        t1 = nn.Threshold(threshold1, 0)\n",
    "        t2 = nn.Threshold(threshold2, 0)\n",
    "        \n",
    "        weights1 = t1(F.softmax(weights1, dim = 0))\n",
    "        weights2 = t2(F.softmax(weights2, dim = 0))\n",
    "        \n",
    "        weights1 = weights1/weights1.sum()\n",
    "        weights2 = weights2/weights2.sum()\n",
    "        \n",
    "        self.w1 = weights1\n",
    "        self.w2 = weights2\n",
    "        \n",
    "        #print (\"Weights 1 \", weights1.view(1,-1).unsqueeze(0).shape)\n",
    "        #print (\"Weights 1 \", sentence1.unsqueeze(0).shape)\n",
    "        \n",
    "        h1 = torch.bmm(weights1.view(1,-1).unsqueeze(0),out1.unsqueeze(0))\n",
    "        h2 = torch.bmm(weights2.view(1,-1).unsqueeze(0),out2.unsqueeze(0))\n",
    "        \n",
    "        similarity = cos(h1,h2)\n",
    "        \n",
    "        self.similarity = similarity.view(-1).item()\n",
    "        \n",
    "        n1 = self.norm2(h1)\n",
    "        n2 = self.norm2(h2)\n",
    "        \n",
    "        #Weight Matrix\n",
    "        w_mat = torch.matmul(keys1,torch.transpose(keys2,1,0))\n",
    "        w_mat1 = F.softmax(w_mat, dim = 1)\n",
    "        w_mat2 = F.softmax(w_mat, dim = 0)\n",
    "        \n",
    "        self.w_matrix1 = w_mat1\n",
    "        self.w_matrix2 = w_mat2\n",
    "        \n",
    "        alignment1 = torch.matmul(weights1.view(1,-1),w_mat1)\n",
    "        alignment1 = torch.matmul(alignment1,weights2.view(-1,1))\n",
    "        \n",
    "        alignment2 = torch.matmul(weights1.view(1,-1),w_mat2)\n",
    "        alignment2 = torch.matmul(alignment2,weights2.view(-1,1))\n",
    "                \n",
    "        self.al1 = alignment1.view(-1).item()\n",
    "        self.al2 = alignment2.view(-1).item()\n",
    "        #y_predict = torch.sigmoid(self.linear(alignment))\n",
    "        #y_predict = torch.sigmoid(self.linear(cos(h1,h2)))\n",
    "        \n",
    "        predict1 = torch.sigmoid(self.Bilinear(h1,h2))\n",
    "        \n",
    "        self.predict = predict1.view(-1).item()\n",
    "                \n",
    "        #f1 = -torch.abs(alignment1.view(-1) - alignment2.view(-1))/(self.al1 + self.al2)\n",
    "        #f2 = torch.tensor([(self.al1 + self.al2)*(len(sentence1) + len(sentence2))]).to(device)\n",
    "        \n",
    "        final = torch.stack((similarity.view(-1), predict1.view(-1), alignment1.view(-1), alignment2.view(-1)),0).view(-1)\n",
    "        \n",
    "        \n",
    "        #y_predict = torch.sigmoid(self.out(outv))\n",
    "        \n",
    "        #outv = torch.tanh(self.inp(final))\n",
    "        #hid2 = F.relu(self.hidden1(hid1))\n",
    "        #hid3 = F.relu(self.hidden2(hid2))\n",
    "        #outv = F.relu(self.hidden1(hid1))\n",
    "        \n",
    "        y_predict = torch.sigmoid(self.linear(final))\n",
    "\n",
    "        return y_predict\n",
    "    "
   ]
  },
  {
   "cell_type": "code",
   "execution_count": 10,
   "metadata": {},
   "outputs": [
    {
     "name": "stdout",
     "output_type": "stream",
     "text": [
      "['What', 'is', 'the', 'story', 'of', 'Kohinoor', '(Koh-i-Noor)', 'Diamond?']\n",
      "['What', 'would', 'happen', 'if', 'the', 'Indian', 'government', 'stole', 'the', 'Kohinoor', '(Koh-i-Noor)', 'diamond', 'back?']\n",
      "tensor([0.5692], device='cuda:0', grad_fn=<SigmoidBackward>)\n"
     ]
    }
   ],
   "source": [
    "#test cell\n",
    "model = AttentionLSTM(EMBEDDING_DIM, HIDDEN_DIM)\n",
    "model = model.to(device)\n",
    "\n",
    "for i in range(len(train1[0:1])):\n",
    "    sentence1 = train1[i+1]\n",
    "    sentence2 = train2[i+1]\n",
    "    \n",
    "    inputs1 = torch.tensor([get_ft(word) for word in sentence1])\n",
    "    inputs2 = torch.tensor([get_ft(word) for word in sentence2])\n",
    "    y_predict = model(inputs1.to(device), inputs2.to(device))\n",
    "    \n",
    "    print (sentence1)\n",
    "    #print (model.w1)\n",
    "    print (sentence2)\n",
    "    #print (model.w2)\n",
    "    #print (model.w_matrix)\n",
    "    #print (\"Similarity \",model.similarity)\n",
    "    #print (\"Predict \",model.predict)\n",
    "    #print (\"Al1 \",model.al1)\n",
    "    #print (\"Al2 \",model.al2)\n",
    "    print (y_predict)\n"
   ]
  },
  {
   "cell_type": "code",
   "execution_count": null,
   "metadata": {},
   "outputs": [],
   "source": [
    "def train(epoch, model, loss_function, optimizer):\n",
    "    train_loss = 0\n",
    "    correct = 0\n",
    "    num = 0\n",
    "    labels1 = np.array(labels)\n",
    "    label2 = torch.from_numpy(labels1)\n",
    "    label2 = label2.type(torch.float)\n",
    "    start_time = time.time()\n",
    "    \n",
    "    for i in range(len(train1)):\n",
    "        num = num + 1\n",
    "        \n",
    "        if i%10000 == 0:\n",
    "            print(\"No. \",i ,\" Epoch: \", epoch, \" Loss: \", train_loss/(2*num), \"Accuracy: \",correct/(2*num), \"Time taken: \", time.time()-start_time)\n",
    "            start_time = time.time()\n",
    "        model.zero_grad()\n",
    "        \n",
    "        sentence1 = train1[i]\n",
    "        sentence2 = train2[i]\n",
    "        inputs1 = torch.tensor([get_ft(word) for word in sentence1])\n",
    "        inputs2 = torch.tensor([get_ft(word) for word in sentence2])\n",
    "    \n",
    "\n",
    "        y_predict1 = model(inputs1.to(device), inputs2.to(device))\n",
    "        y_predict2 = model(inputs2.to(device), inputs1.to(device))\n",
    "        \n",
    "        labela = torch.tensor([label2[i]])\n",
    "        \n",
    "        y_predict = torch.stack((y_predict1,y_predict2),0).view(-1)\n",
    "        label = torch.stack((labela,labela),0).view(-1)\n",
    "        \n",
    "        #y_predict = y_predict1.view(-1)\n",
    "        #label = labela.view(-1)\n",
    "        \n",
    "        #print (y_predict, label)\n",
    "        \n",
    "        loss = loss_function(y_predict.to(device), label.to(device))\n",
    "\n",
    "        loss.backward()\n",
    "        optimizer.step()\n",
    "\n",
    "        train_loss += loss.float().sum().item()\n",
    "\n",
    "        preds = torch.round(y_predict.to(device))\n",
    "\n",
    "        matches = (preds == label.to(device)).float().sum() \n",
    "        correct += matches.item()\n",
    "        \n",
    "        #print (preds, label, correct)\n",
    "        \n",
    "        \n",
    "    print(\"Epoch: \", epoch, \" Loss: \", train_loss/(2*num), \"Accuracy: \",correct/(num))\n"
   ]
  },
  {
   "cell_type": "code",
   "execution_count": 12,
   "metadata": {},
   "outputs": [],
   "source": [
    "model = AttentionLSTM(EMBEDDING_DIM, HIDDEN_DIM)\n",
    "model.load_state_dict(torch.load('Attention_new_4.pth'))\n",
    "#copied_params = load_my_state_dict(model,torch.load('Attention_new_3.pth'))\n",
    "model = model.to(device)\n",
    "loss_function = nn.BCELoss()"
   ]
  },
  {
   "cell_type": "code",
   "execution_count": 141,
   "metadata": {},
   "outputs": [],
   "source": [
    "optimizer = optim.SGD(model.parameters(), lr=LEARNING_RATE)"
   ]
  },
  {
   "cell_type": "code",
   "execution_count": null,
   "metadata": {},
   "outputs": [
    {
     "name": "stdout",
     "output_type": "stream",
     "text": [
      "No.  0  Epoch:  1  Loss:  0.0 Accuracy:  0.0 Time taken:  0.0\n",
      "No.  10000  Epoch:  1  Loss:  0.20059565869341542 Accuracy:  0.8107189281071893 Time taken:  422.2083921432495\n",
      "No.  20000  Epoch:  1  Loss:  0.19979385865980573 Accuracy:  0.8131843407829609 Time taken:  418.9606068134308\n",
      "No.  30000  Epoch:  1  Loss:  0.19936978792382476 Accuracy:  0.8137728742375254 Time taken:  439.226313829422\n"
     ]
    }
   ],
   "source": [
    "for epoch in range(1, EPOCHS + 1): \n",
    "    train(epoch, model, loss_function, optimizer)"
   ]
  },
  {
   "cell_type": "code",
   "execution_count": null,
   "metadata": {},
   "outputs": [],
   "source": [
    "# Print model's state_dict\n",
    "print(\"Model's state_dict:\")\n",
    "for param_tensor in model.state_dict():\n",
    "    print(param_tensor, \"\\t\", model.state_dict()[param_tensor].size())\n",
    "\n",
    "# Print optimizer's state_dict\n",
    "print(\"Optimizer's state_dict:\")\n",
    "for var_name in optimizer.state_dict():\n",
    "    print(var_name, \"\\t\", optimizer.state_dict()[var_name])"
   ]
  },
  {
   "cell_type": "code",
   "execution_count": null,
   "metadata": {},
   "outputs": [],
   "source": [
    "print (model.state_dict()['linear.weight'], model.state_dict()['linear.bias'])"
   ]
  },
  {
   "cell_type": "code",
   "execution_count": null,
   "metadata": {},
   "outputs": [],
   "source": [
    "torch.save(model.state_dict(), 'Attention_new_5.pth')"
   ]
  },
  {
   "cell_type": "code",
   "execution_count": 40,
   "metadata": {},
   "outputs": [
    {
     "data": {
      "text/plain": [
       "<All keys matched successfully>"
      ]
     },
     "execution_count": 40,
     "metadata": {},
     "output_type": "execute_result"
    }
   ],
   "source": [
    "new_model = AttentionLSTM(EMBEDDING_DIM, HIDDEN_DIM)\n",
    "new_model.load_state_dict(torch.load('Attention_new_5.pth'))"
   ]
  },
  {
   "cell_type": "code",
   "execution_count": 41,
   "metadata": {},
   "outputs": [
    {
     "data": {
      "text/plain": [
       "AttentionLSTM(\n",
       "  (lstm): LSTM(300, 15, num_layers=2, dropout=0.1, bidirectional=True)\n",
       "  (Bilinear): Bilinear(in1_features=330, in2_features=330, out_features=1, bias=True)\n",
       "  (linear): Linear(in_features=4, out_features=1, bias=True)\n",
       "  (norm1): LayerNorm((60,), eps=1e-05, elementwise_affine=True)\n",
       "  (norm2): LayerNorm((330,), eps=1e-05, elementwise_affine=True)\n",
       "  (Key): Linear(in_features=330, out_features=60, bias=True)\n",
       ")"
      ]
     },
     "execution_count": 41,
     "metadata": {},
     "output_type": "execute_result"
    }
   ],
   "source": [
    "model = new_model\n",
    "model.to(device)"
   ]
  },
  {
   "cell_type": "code",
   "execution_count": 13,
   "metadata": {},
   "outputs": [],
   "source": [
    "import random"
   ]
  },
  {
   "cell_type": "code",
   "execution_count": 159,
   "metadata": {},
   "outputs": [],
   "source": [
    "q1 = \"Why is Israel fighting ISIS?\"\n",
    "q2 = \"How is Israel fighting ISIS?\" "
   ]
  },
  {
   "cell_type": "code",
   "execution_count": null,
   "metadata": {},
   "outputs": [],
   "source": [
    "q1 = \"What are the best ways to learn French?\"\n",
    "q2 = \"How do I learn french genders?\" "
   ]
  },
  {
   "cell_type": "code",
   "execution_count": 37,
   "metadata": {},
   "outputs": [],
   "source": [
    "q1 = \"What is the most foolish thing you did as a kid?\"\n",
    "q2 = \"What is the most intelligent thing a kid has ever said to you?\" "
   ]
  },
  {
   "cell_type": "code",
   "execution_count": 48,
   "metadata": {},
   "outputs": [],
   "source": [
    "q1 = \"What will be the effect of banning 500 and 1000 Rs notes on real estate sector in India?\"\n",
    "q2 = \"Can we expect sharp fall in prices in short/long term? What will the real estate look like now after the 500 and 1000 scraping?\""
   ]
  },
  {
   "cell_type": "code",
   "execution_count": 160,
   "metadata": {},
   "outputs": [],
   "source": [
    "t1 = q1.split(' ')\n",
    "t2 = q2.split(' ')"
   ]
  },
  {
   "cell_type": "code",
   "execution_count": 184,
   "metadata": {},
   "outputs": [],
   "source": [
    "i = random.randint(1,400000)\n",
    "t1 = train1[i]\n",
    "t2 = train2[i]"
   ]
  },
  {
   "cell_type": "code",
   "execution_count": 185,
   "metadata": {},
   "outputs": [],
   "source": [
    "i1 = torch.tensor([get_ft(word) for word in t1])\n",
    "i2 = torch.tensor([get_ft(word) for word in t2])\n",
    "\n",
    "y1 = model(i1.to(device),i2.to(device))\n",
    "#y2 = model(i2.to(device),i1.to(device))"
   ]
  },
  {
   "cell_type": "code",
   "execution_count": 186,
   "metadata": {},
   "outputs": [
    {
     "name": "stdout",
     "output_type": "stream",
     "text": [
      "tensor([0.7288], device='cuda:0', grad_fn=<SigmoidBackward>)\n",
      "1\n"
     ]
    }
   ],
   "source": [
    "print (y1)\n",
    "print (labels[i])"
   ]
  },
  {
   "cell_type": "code",
   "execution_count": 187,
   "metadata": {},
   "outputs": [
    {
     "name": "stdout",
     "output_type": "stream",
     "text": [
      "['Where', 'can', 'I', 'find', 'an', 'online', 'course', 'for', 'digital', 'marketing?']\n",
      "[0.11732912808656693, 0.0, 0.0, 0.0, 0.0, 0.12121795862913132, 0.11910372972488403, 0.0, 0.23030225932598114, 0.41204696893692017]\n"
     ]
    }
   ],
   "source": [
    "print (t1)\n",
    "print (model.w1.tolist())"
   ]
  },
  {
   "cell_type": "code",
   "execution_count": 188,
   "metadata": {},
   "outputs": [
    {
     "name": "stdout",
     "output_type": "stream",
     "text": [
      "['What', 'is', 'the', 'best', 'digital', 'marketing', 'course', 'online', 'for', 'a', 'beginner?']\n",
      "[0.0, 0.0, 0.0, 0.0, 0.18022485077381134, 0.21090812981128693, 0.11719606071710587, 0.0, 0.0, 0.0, 0.4916709363460541]\n"
     ]
    }
   ],
   "source": [
    "print (t2)\n",
    "print (model.w2.tolist())"
   ]
  },
  {
   "cell_type": "code",
   "execution_count": 189,
   "metadata": {},
   "outputs": [
    {
     "name": "stdout",
     "output_type": "stream",
     "text": [
      "Similarity  0.8480792045593262\n",
      "Predict  0.3596404790878296\n",
      "Al1  0.24409519135951996\n",
      "Al2  0.20171818137168884\n"
     ]
    }
   ],
   "source": [
    "print (\"Similarity \",model.similarity)\n",
    "print (\"Predict \",model.predict)\n",
    "print (\"Al1 \",model.al1)\n",
    "print (\"Al2 \",model.al2)"
   ]
  },
  {
   "cell_type": "code",
   "execution_count": 190,
   "metadata": {},
   "outputs": [
    {
     "data": {
      "text/plain": [
       "<matplotlib.axes._subplots.AxesSubplot at 0x2408b0ab3c8>"
      ]
     },
     "execution_count": 190,
     "metadata": {},
     "output_type": "execute_result"
    },
    {
     "data": {
      "image/png": "[encoded data removed]",
      "text/plain": [
       "<Figure size 864x72 with 2 Axes>"
      ]
     },
     "metadata": {
      "needs_background": "light"
     },
     "output_type": "display_data"
    }
   ],
   "source": [
    "s1 = np.array([model.w1.tolist()])\n",
    "plt.figure(figsize=(12, 1))\n",
    "sns.heatmap(s1, cmap = \"gray_r\", xticklabels=t1, linewidths=.3)"
   ]
  },
  {
   "cell_type": "code",
   "execution_count": 191,
   "metadata": {},
   "outputs": [
    {
     "data": {
      "text/plain": [
       "<matplotlib.axes._subplots.AxesSubplot at 0x2408b13af98>"
      ]
     },
     "execution_count": 191,
     "metadata": {},
     "output_type": "execute_result"
    },
    {
     "data": {
      "image/png": "[encoded data removed]",
      "text/plain": [
       "<Figure size 864x72 with 2 Axes>"
      ]
     },
     "metadata": {
      "needs_background": "light"
     },
     "output_type": "display_data"
    }
   ],
   "source": [
    "s2 = np.array([model.w2.tolist()])\n",
    "plt.figure(figsize=(12, 1))\n",
    "sns.heatmap(s2, cmap = \"gray_r\", xticklabels=t2, linewidths=.3)"
   ]
  },
  {
   "cell_type": "code",
   "execution_count": 141,
   "metadata": {},
   "outputs": [
    {
     "data": {
      "text/plain": [
       "<matplotlib.axes._subplots.AxesSubplot at 0x24089932128>"
      ]
     },
     "execution_count": 141,
     "metadata": {},
     "output_type": "execute_result"
    },
    {
     "data": {
      "image/png": "[encoded data removed]",
      "text/plain": [
       "<Figure size 432x288 with 2 Axes>"
      ]
     },
     "metadata": {
      "needs_background": "light"
     },
     "output_type": "display_data"
    }
   ],
   "source": [
    "map1 = model.w_matrix1.cpu().detach().numpy()\n",
    "sns.heatmap(map1, cmap=\"YlGnBu\", yticklabels=t1, xticklabels=t2)"
   ]
  },
  {
   "cell_type": "code",
   "execution_count": 142,
   "metadata": {},
   "outputs": [
    {
     "data": {
      "text/plain": [
       "<matplotlib.axes._subplots.AxesSubplot at 0x240899f2748>"
      ]
     },
     "execution_count": 142,
     "metadata": {},
     "output_type": "execute_result"
    },
    {
     "data": {
      "image/png": "[encoded data removed]",
      "text/plain": [
       "<Figure size 432x288 with 2 Axes>"
      ]
     },
     "metadata": {
      "needs_background": "light"
     },
     "output_type": "display_data"
    }
   ],
   "source": [
    "map2 = model.w_matrix2.cpu().detach().numpy()\n",
    "sns.heatmap(map2, cmap=\"YlGnBu\", yticklabels=t1, xticklabels=t2)"
   ]
  },
  {
   "cell_type": "code",
   "execution_count": null,
   "metadata": {},
   "outputs": [],
   "source": [
    "loss_function = nn.BCELoss()\n",
    "optimizer = optim.SGD(new_model.parameters(), lr=LEARNING_RATE)\n",
    "\n",
    "for epoch in range(1, EPOCHS + 1): \n",
    "    train(epoch, new_model, loss_function, optimizer)"
   ]
  },
  {
   "cell_type": "code",
   "execution_count": null,
   "metadata": {},
   "outputs": [],
   "source": []
  },
  {
   "cell_type": "code",
   "execution_count": null,
   "metadata": {},
   "outputs": [],
   "source": []
  },
  {
   "cell_type": "code",
   "execution_count": null,
   "metadata": {},
   "outputs": [],
   "source": []
  },
  {
   "cell_type": "code",
   "execution_count": 294,
   "metadata": {},
   "outputs": [
    {
     "name": "stdout",
     "output_type": "stream",
     "text": [
      "No.  0  Epoch:  1  Loss:  0.0 Accuracy:  0.0 Time taken:  0.0\n",
      "No.  10000  Epoch:  1  Loss:  0.2410998192267152 Accuracy:  0.7528247175282472 Time taken:  413.37073612213135\n",
      "No.  20000  Epoch:  1  Loss:  0.2420534116683586 Accuracy:  0.7519874006299685 Time taken:  412.23864674568176\n",
      "No.  30000  Epoch:  1  Loss:  0.24138644035406795 Accuracy:  0.7536915436152128 Time taken:  413.02196192741394\n",
      "No.  40000  Epoch:  1  Loss:  0.24009789331488918 Accuracy:  0.7555811104722382 Time taken:  409.6203303337097\n",
      "No.  50000  Epoch:  1  Loss:  0.23863925018899865 Accuracy:  0.7572548549029019 Time taken:  407.06764554977417\n",
      "No.  60000  Epoch:  1  Loss:  0.23889463828258586 Accuracy:  0.757529041182647 Time taken:  405.34272289276123\n",
      "No.  70000  Epoch:  1  Loss:  0.23816679083820516 Accuracy:  0.7587034470936129 Time taken:  409.5759701728821\n",
      "No.  80000  Epoch:  1  Loss:  0.23848777950793115 Accuracy:  0.7580467744153198 Time taken:  403.6522150039673\n",
      "No.  90000  Epoch:  1  Loss:  0.2381640893086401 Accuracy:  0.7581526871923645 Time taken:  402.3578851222992\n",
      "No.  100000  Epoch:  1  Loss:  0.23825905339351355 Accuracy:  0.7581274187258128 Time taken:  401.7397961616516\n",
      "No.  110000  Epoch:  1  Loss:  0.2381730885059853 Accuracy:  0.7584612867155753 Time taken:  402.28884172439575\n",
      "No.  120000  Epoch:  1  Loss:  0.23834416642744163 Accuracy:  0.7583895134207215 Time taken:  402.3625364303589\n",
      "No.  130000  Epoch:  1  Loss:  0.2384531773986515 Accuracy:  0.7584287813170668 Time taken:  402.29162526130676\n",
      "No.  140000  Epoch:  1  Loss:  0.23816650830411706 Accuracy:  0.7589910072070913 Time taken:  401.9237322807312\n",
      "No.  150000  Epoch:  1  Loss:  0.2378147320233767 Accuracy:  0.7594582702781981 Time taken:  402.0395073890686\n",
      "No.  160000  Epoch:  1  Loss:  0.2374145523379385 Accuracy:  0.7604108724320473 Time taken:  411.07829189300537\n",
      "No.  170000  Epoch:  1  Loss:  0.2376950267057859 Accuracy:  0.7600102352339104 Time taken:  401.0610122680664\n",
      "No.  180000  Epoch:  1  Loss:  0.23741328344157028 Accuracy:  0.7604402197765568 Time taken:  402.05140233039856\n",
      "No.  190000  Epoch:  1  Loss:  0.23731079026335725 Accuracy:  0.7604565239130321 Time taken:  401.68118119239807\n",
      "No.  200000  Epoch:  1  Loss:  0.23732540415494552 Accuracy:  0.7603886980565098 Time taken:  400.8148717880249\n",
      "No.  210000  Epoch:  1  Loss:  0.23719249814580012 Accuracy:  0.7604987595297166 Time taken:  402.0772662162781\n",
      "No.  220000  Epoch:  1  Loss:  0.23708205631102428 Accuracy:  0.7603806346334789 Time taken:  401.59015464782715\n",
      "No.  230000  Epoch:  1  Loss:  0.2368665611192133 Accuracy:  0.7607119099482176 Time taken:  401.1218500137329\n",
      "No.  240000  Epoch:  1  Loss:  0.23675066122064006 Accuracy:  0.7609739126086975 Time taken:  401.6344790458679\n",
      "No.  250000  Epoch:  1  Loss:  0.23650915054995614 Accuracy:  0.7612749549001804 Time taken:  403.18411660194397\n",
      "No.  260000  Epoch:  1  Loss:  0.2364765599793318 Accuracy:  0.7612989950038653 Time taken:  401.99864196777344\n",
      "No.  270000  Epoch:  1  Loss:  0.23627127143439683 Accuracy:  0.7615990311146996 Time taken:  402.6410663127899\n",
      "No.  280000  Epoch:  1  Loss:  0.2360323245057699 Accuracy:  0.7618615647801258 Time taken:  401.500625371933\n",
      "No.  290000  Epoch:  1  Loss:  0.2358098854963133 Accuracy:  0.7621542684335572 Time taken:  401.4370286464691\n",
      "No.  300000  Epoch:  1  Loss:  0.23570662574530823 Accuracy:  0.7621641261195796 Time taken:  402.29873871803284\n",
      "No.  310000  Epoch:  1  Loss:  0.23557096409707504 Accuracy:  0.762410443837278 Time taken:  401.5496156215668\n",
      "No.  320000  Epoch:  1  Loss:  0.23541771906934755 Accuracy:  0.7627023040552998 Time taken:  401.29947686195374\n",
      "No.  330000  Epoch:  1  Loss:  0.23517390469488433 Accuracy:  0.7631901115451165 Time taken:  401.55438780784607\n",
      "No.  340000  Epoch:  1  Loss:  0.2349942676591626 Accuracy:  0.7634006958803062 Time taken:  402.4283185005188\n",
      "No.  350000  Epoch:  1  Loss:  0.23481567423793095 Accuracy:  0.7636606752552135 Time taken:  400.3813257217407\n",
      "No.  360000  Epoch:  1  Loss:  0.234800737513086 Accuracy:  0.7635923233546573 Time taken:  401.603640794754\n",
      "No.  370000  Epoch:  1  Loss:  0.23461071875084827 Accuracy:  0.763980367620628 Time taken:  401.0220561027527\n",
      "No.  380000  Epoch:  1  Loss:  0.2343904590829143 Accuracy:  0.7642624624672041 Time taken:  401.1726038455963\n",
      "No.  390000  Epoch:  1  Loss:  0.23410811378492233 Accuracy:  0.7645095781805687 Time taken:  402.51292085647583\n",
      "No.  400000  Epoch:  1  Loss:  0.23379649708518818 Accuracy:  0.7648255879360302 Time taken:  401.9407682418823\n",
      "Epoch:  1  Loss:  0.23366278673476557 Accuracy:  0.7649694526206436\n",
      "No.  0  Epoch:  2  Loss:  0.0 Accuracy:  0.0 Time taken:  0.0\n",
      "No.  10000  Epoch:  2  Loss:  0.22974737834508074 Accuracy:  0.7746725327467253 Time taken:  402.2097997665405\n",
      "No.  20000  Epoch:  2  Loss:  0.23027969156283135 Accuracy:  0.7718114094295285 Time taken:  401.25557231903076\n",
      "No.  30000  Epoch:  2  Loss:  0.22985328340019764 Accuracy:  0.7728742375254158 Time taken:  402.00773453712463\n",
      "No.  40000  Epoch:  2  Loss:  0.22843159037309965 Accuracy:  0.7742931426714332 Time taken:  401.8688209056854\n",
      "No.  50000  Epoch:  2  Loss:  0.2270480872521993 Accuracy:  0.7756244875102498 Time taken:  401.3922801017761\n",
      "No.  60000  Epoch:  2  Loss:  0.22734771956333394 Accuracy:  0.7755120747987534 Time taken:  401.1539418697357\n",
      "No.  70000  Epoch:  2  Loss:  0.2267570489003265 Accuracy:  0.7764603362809103 Time taken:  402.94686627388\n",
      "No.  80000  Epoch:  2  Loss:  0.22713307155655985 Accuracy:  0.7761715478556518 Time taken:  401.1477143764496\n",
      "No.  90000  Epoch:  2  Loss:  0.22694722440529608 Accuracy:  0.7762024866390373 Time taken:  403.4626188278198\n",
      "No.  100000  Epoch:  2  Loss:  0.2271593148761266 Accuracy:  0.7759122408775913 Time taken:  401.4809241294861\n",
      "No.  110000  Epoch:  2  Loss:  0.22725491963910097 Accuracy:  0.7756565849401369 Time taken:  401.31933093070984\n",
      "No.  120000  Epoch:  2  Loss:  0.22740941621427044 Accuracy:  0.7753852051232907 Time taken:  403.0724833011627\n",
      "No.  130000  Epoch:  2  Loss:  0.2274599949067626 Accuracy:  0.7754209583003208 Time taken:  403.08747601509094\n",
      "No.  140000  Epoch:  2  Loss:  0.22720138471696164 Accuracy:  0.7758516010599924 Time taken:  402.07793951034546\n",
      "No.  150000  Epoch:  2  Loss:  0.22694865502685949 Accuracy:  0.7761348257678282 Time taken:  402.1190462112427\n",
      "No.  160000  Epoch:  2  Loss:  0.2265796020424975 Accuracy:  0.7768420197373767 Time taken:  402.597252368927\n",
      "No.  170000  Epoch:  2  Loss:  0.22694060894260673 Accuracy:  0.7764013152863807 Time taken:  400.90242314338684\n",
      "No.  180000  Epoch:  2  Loss:  0.2267387428866675 Accuracy:  0.7766317964900195 Time taken:  402.0972135066986\n",
      "No.  190000  Epoch:  2  Loss:  0.22670407861112007 Accuracy:  0.7766248598691586 Time taken:  401.7862157821655\n",
      "No.  200000  Epoch:  2  Loss:  0.2268071611760297 Accuracy:  0.7764661176694116 Time taken:  401.8145432472229\n",
      "No.  210000  Epoch:  2  Loss:  0.2267547829800445 Accuracy:  0.7763915409926619 Time taken:  411.32955288887024\n",
      "No.  220000  Epoch:  2  Loss:  0.22668157092338445 Accuracy:  0.7762873805119067 Time taken:  401.9310145378113\n",
      "No.  230000  Epoch:  2  Loss:  0.2264923807031854 Accuracy:  0.7765553193246986 Time taken:  402.4430763721466\n",
      "No.  240000  Epoch:  2  Loss:  0.22640342640626773 Accuracy:  0.7767259303086237 Time taken:  402.33174872398376\n",
      "No.  250000  Epoch:  2  Loss:  0.22616242444791196 Accuracy:  0.7771068915724337 Time taken:  402.96941113471985\n",
      "No.  260000  Epoch:  2  Loss:  0.22617217199897888 Accuracy:  0.7769527809508425 Time taken:  401.65452313423157\n",
      "No.  270000  Epoch:  2  Loss:  0.22601068665239066 Accuracy:  0.777145269832334 Time taken:  402.48523712158203\n",
      "No.  280000  Epoch:  2  Loss:  0.22582403986961283 Accuracy:  0.7772311527458831 Time taken:  401.67338609695435\n",
      "No.  290000  Epoch:  2  Loss:  0.22563175663354934 Accuracy:  0.777561111858235 Time taken:  400.92486357688904\n",
      "No.  300000  Epoch:  2  Loss:  0.2255839186015615 Accuracy:  0.7774890750364165 Time taken:  401.7401192188263\n",
      "No.  310000  Epoch:  2  Loss:  0.2254904130304784 Accuracy:  0.777610394805178 Time taken:  400.5743408203125\n",
      "No.  320000  Epoch:  2  Loss:  0.2253655888272838 Accuracy:  0.7777991318777129 Time taken:  400.3377728462219\n"
     ]
    },
    {
     "name": "stdout",
     "output_type": "stream",
     "text": [
      "No.  330000  Epoch:  2  Loss:  0.22518902940347843 Accuracy:  0.7781249147729855 Time taken:  401.58642053604126\n",
      "No.  340000  Epoch:  2  Loss:  0.22506143510749946 Accuracy:  0.7783035932247259 Time taken:  402.2280354499817\n",
      "No.  350000  Epoch:  2  Loss:  0.2249427030186464 Accuracy:  0.7784549187002323 Time taken:  401.15871953964233\n",
      "No.  360000  Epoch:  2  Loss:  0.22495517784111077 Accuracy:  0.7783603378879503 Time taken:  402.88924407958984\n",
      "No.  370000  Epoch:  2  Loss:  0.22480135878892987 Accuracy:  0.7785695173796827 Time taken:  404.45217204093933\n",
      "No.  380000  Epoch:  2  Loss:  0.22460825280714128 Accuracy:  0.7788032136757534 Time taken:  401.8768222332001\n",
      "No.  390000  Epoch:  2  Loss:  0.22436539991591958 Accuracy:  0.7789595411293817 Time taken:  405.1810441017151\n",
      "No.  400000  Epoch:  2  Loss:  0.22409477569683248 Accuracy:  0.7791230521923695 Time taken:  415.47996401786804\n",
      "Epoch:  2  Loss:  0.22398333652237246 Accuracy:  0.7792500432857602\n"
     ]
    }
   ],
   "source": [
    "#Epochs 2 and 3\n",
    "for epoch in range(1, EPOCHS + 1): \n",
    "    train(epoch, model, loss_function, optimizer)"
   ]
  }
 ],
 "metadata": {
  "kernelspec": {
   "display_name": "Python 3",
   "language": "python",
   "name": "python3"
  },
  "language_info": {
   "codemirror_mode": {
    "name": "ipython",
    "version": 3
   },
   "file_extension": ".py",
   "mimetype": "text/x-python",
   "name": "python",
   "nbconvert_exporter": "python",
   "pygments_lexer": "ipython3",
   "version": "3.7.3"
  }
 },
 "nbformat": 4,
 "nbformat_minor": 2
}
